{
 "cells": [
  {
   "cell_type": "code",
   "execution_count": 1,
   "metadata": {},
   "outputs": [
    {
     "ename": "SyntaxError",
     "evalue": "invalid syntax (<ipython-input-1-fbe69bac4227>, line 1)",
     "output_type": "error",
     "traceback": [
      "\u001b[1;36m  File \u001b[1;32m\"<ipython-input-1-fbe69bac4227>\"\u001b[1;36m, line \u001b[1;32m1\u001b[0m\n\u001b[1;33m    <script>\u001b[0m\n\u001b[1;37m    ^\u001b[0m\n\u001b[1;31mSyntaxError\u001b[0m\u001b[1;31m:\u001b[0m invalid syntax\n"
     ]
    }
   ],
   "source": [
    "<script>\n",
    "  function code_toggle() {\n",
    "    if (code_shown){\n",
    "      $('div.input').hide('500');\n",
    "      $('#toggleButton').val('Show Code')\n",
    "    } else {\n",
    "      $('div.input').show('500');\n",
    "      $('#toggleButton').val('Hide Code')\n",
    "    }\n",
    "    code_shown = !code_shown\n",
    "  }\n",
    "\n",
    "  $( document ).ready(function(){\n",
    "    code_shown=false;\n",
    "    $('div.input').hide()\n",
    "  });\n",
    "</script>\n",
    "<form action=\"javascript:code_toggle()\"><input type=\"submit\" id=\"toggleButton\" value=\"Show Code\"></form>"
   ]
  },
  {
   "cell_type": "code",
   "execution_count": null,
   "metadata": {},
   "outputs": [],
   "source": []
  },
  {
   "cell_type": "markdown",
   "metadata": {},
   "source": [
    "Latest update 2018-11-01 20:15 PM CET"
   ]
  },
  {
   "cell_type": "markdown",
   "metadata": {},
   "source": [
    "## Introduction\n",
    "\n",
    "This document has the purpose of giving the reader a fast overview of the current market situation. Focus is mainly on the Swedish and US markets.\n",
    "\n",
    "Please do not hesitate to contact me at lundberg.oscar@gmail.com"
   ]
  },
  {
   "cell_type": "code",
   "execution_count": null,
   "metadata": {},
   "outputs": [],
   "source": [
    "# Import libraries\n",
    "%matplotlib inline\n",
    "import pandas as pd\n",
    "import seaborn as sns\n",
    "sns.set(font_scale=1.1)\n",
    "import matplotlib.pyplot as plt\n",
    "import matplotlib.dates as mdates\n",
    "plt.rcParams.update({'font.size': 14})\n",
    "\n",
    "# Helper functions to load data\n",
    "from lib.load_index_trace import load_index_trace\n",
    "from lib.get_avanza_fundamentals import get_avanza_fundamentals\n",
    "from lib.load_stocks_fundamentals import load_stocks_fundamentals\n",
    "from lib.load_stocks_trace import load_stocks_trace"
   ]
  },
  {
   "cell_type": "markdown",
   "metadata": {},
   "source": [
    "# 1 Index\n",
    "\n",
    "In this section the trace for the OMXS30 is presented."
   ]
  },
  {
   "cell_type": "code",
   "execution_count": null,
   "metadata": {},
   "outputs": [],
   "source": [
    "# Load index trace\n",
    "df = load_index_trace(time_years=5);\n",
    "plt.figure(figsize=(15, 5))\n",
    "df.plot(title='Omxs30');\n",
    "plt.ylabel('Index value');\n",
    "plt.text(mdates.date2num(df.iloc[-1:].index[0]), round(df.iloc[-1:][0]), str(round(df.iloc[-1:][0])));"
   ]
  },
  {
   "cell_type": "markdown",
   "metadata": {},
   "source": [
    "# 2 Fundamentals\n",
    "\n",
    "This section presents some of the fundamental key-values for different stocks. Dividend yield, pe-reatios etc."
   ]
  },
  {
   "cell_type": "code",
   "execution_count": null,
   "metadata": {},
   "outputs": [],
   "source": [
    "df = load_stocks_fundamentals()"
   ]
  },
  {
   "cell_type": "code",
   "execution_count": null,
   "metadata": {},
   "outputs": [],
   "source": [
    "df.columns"
   ]
  },
  {
   "cell_type": "markdown",
   "metadata": {},
   "source": [
    "### 2.1 Dividend yield"
   ]
  },
  {
   "cell_type": "code",
   "execution_count": null,
   "metadata": {},
   "outputs": [],
   "source": [
    "plt.figure(figsize=(15, 4))\n",
    "df = df.sort_values(by=['dividend_yield'], ascending=False)\n",
    "ax = sns.barplot(x='kortnamn', y='dividend_yield', data=df, palette=\"Blues_d\");\n",
    "plt.plot([0, len(df)-1], [0.040, 0.040], linewidth=2);\n",
    "plt.xlabel('Stock');\n",
    "for p in ax.patches:\n",
    "        ax.annotate(\"%.3f\" % p.get_height(), (p.get_x() + p.get_width() / 2., p.get_height()),\n",
    "             ha='center', va='center', rotation=0, xytext=(0, 8), textcoords='offset points')\n",
    "        \n",
    "for ax in ax.get_xticklabels():\n",
    "    ax.set_rotation(30)\n",
    "    ax.set_ha(\"right\")"
   ]
  },
  {
   "cell_type": "markdown",
   "metadata": {},
   "source": [
    "### 2.2 P/E ratio"
   ]
  },
  {
   "cell_type": "code",
   "execution_count": null,
   "metadata": {},
   "outputs": [],
   "source": [
    "plt.figure(figsize=(15, 4))\n",
    "df = df.sort_values(by=['pe_ratio'], ascending=False)\n",
    "ax = sns.barplot(x='kortnamn', y='pe_ratio', data=df, palette=\"Blues_d\");\n",
    "plt.xlabel('Stock');\n",
    "for p in ax.patches:\n",
    "        ax.annotate(\"%.2f\" % p.get_height(), (p.get_x() + p.get_width() / 2., p.get_height()),\n",
    "             ha='center', va='center', rotation=0, xytext=(0, 8), textcoords='offset points')\n",
    "for ax in ax.get_xticklabels():\n",
    "    ax.set_rotation(30)\n",
    "    ax.set_ha(\"right\")"
   ]
  },
  {
   "cell_type": "markdown",
   "metadata": {},
   "source": [
    "### 2.3 Dividends/Earnings"
   ]
  },
  {
   "cell_type": "code",
   "execution_count": null,
   "metadata": {},
   "outputs": [],
   "source": [
    "plt.figure(figsize=(15, 4))\n",
    "df = df.sort_values(by=['dividend/earnings'], ascending=False)\n",
    "ax = sns.barplot(x='kortnamn', y='dividend/earnings', data=df, palette=\"Blues_d\");\n",
    "plt.xlabel('Stock');\n",
    "for p in ax.patches:\n",
    "        ax.annotate(\"%.2f\" % p.get_height(), (p.get_x() + p.get_width() / 2., p.get_height()),\n",
    "             ha='center', va='center', rotation=0, xytext=(0, 8), textcoords='offset points')\n",
    "for ax in ax.get_xticklabels():\n",
    "    ax.set_rotation(30)\n",
    "    ax.set_ha(\"right\")"
   ]
  },
  {
   "cell_type": "markdown",
   "metadata": {},
   "source": [
    "### 2.4 Net current assets per share"
   ]
  },
  {
   "cell_type": "code",
   "execution_count": null,
   "metadata": {},
   "outputs": [],
   "source": [
    "plt.figure(figsize=(15, 4))\n",
    "df = df.sort_values(by=['ncavps'], ascending=False)\n",
    "ax = sns.barplot(x='kortnamn', y='ncavps', data=df, palette=\"Blues_d\");\n",
    "plt.xlabel('Stock');\n",
    "for p in ax.patches:\n",
    "        ax.annotate(\"%.2f\" % p.get_height(), (p.get_x() + p.get_width() / 2., p.get_height()),\n",
    "             ha='center', va='center', rotation=0, xytext=(0, 8), textcoords='offset points')\n",
    "for ax in ax.get_xticklabels():\n",
    "    ax.set_rotation(30)\n",
    "    ax.set_ha(\"right\")"
   ]
  },
  {
   "cell_type": "markdown",
   "metadata": {},
   "source": [
    "### 2.5 Net cash per share"
   ]
  },
  {
   "cell_type": "code",
   "execution_count": null,
   "metadata": {},
   "outputs": [],
   "source": [
    "plt.figure(figsize=(15, 4))\n",
    "df = df.sort_values(by=['net_cash_ps'], ascending=False)\n",
    "ax = sns.barplot(x='kortnamn', y='net_cash_ps', data=df, palette=\"Blues_d\");\n",
    "plt.xlabel('Stock');\n",
    "for p in ax.patches:\n",
    "        ax.annotate(\"%.2f\" % p.get_height(), (p.get_x() + p.get_width() / 2., p.get_height()),\n",
    "             ha='center', va='center', rotation=0, xytext=(0, 8), textcoords='offset points')\n",
    "for ax in ax.get_xticklabels():\n",
    "    ax.set_rotation(30)\n",
    "    ax.set_ha(\"right\")"
   ]
  },
  {
   "cell_type": "markdown",
   "metadata": {},
   "source": [
    "### 2.6 Price/book "
   ]
  },
  {
   "cell_type": "code",
   "execution_count": null,
   "metadata": {},
   "outputs": [],
   "source": [
    "plt.figure(figsize=(15, 4))\n",
    "df = df.sort_values(by=['price_book'], ascending=False)\n",
    "ax = sns.barplot(x='kortnamn', y='price_book', data=df, palette=\"Blues_d\");\n",
    "plt.xlabel('Stock');\n",
    "for p in ax.patches:\n",
    "        ax.annotate(\"%.2f\" % p.get_height(), (p.get_x() + p.get_width() / 2., p.get_height()),\n",
    "             ha='center', va='center', rotation=0, xytext=(0, 8), textcoords='offset points')\n",
    "for ax in ax.get_xticklabels():\n",
    "    ax.set_rotation(30)\n",
    "    ax.set_ha(\"right\")"
   ]
  },
  {
   "cell_type": "markdown",
   "metadata": {},
   "source": [
    "# 3 Appendix\n",
    "\n",
    "In this appendix, the price for various stocks are presented."
   ]
  },
  {
   "cell_type": "code",
   "execution_count": null,
   "metadata": {},
   "outputs": [],
   "source": [
    "df = load_stocks_trace(time_years=5);"
   ]
  },
  {
   "cell_type": "code",
   "execution_count": null,
   "metadata": {},
   "outputs": [],
   "source": [
    "\"\"\"\n",
    "plt.rcParams.update({'font.size': 12})\n",
    "fig, ax = plt.subplots(len(df.columns), sharex=False, figsize=(15, 80))\n",
    "log = False\n",
    "import numpy as np  \n",
    "for idx, stock in enumerate(df): \n",
    "    df[stock].plot(ax=ax[idx], logy=log)\n",
    "    ax[idx].set_title(stock)\n",
    "    ax[idx].text(df[stock].iloc[-1:].index[0], \n",
    "                 round(df[stock].iloc[-1:][0] ,2), \n",
    "                 str(round(df[stock].iloc[-1:][0], 2)))\n",
    "\n",
    "#fig.subplots_adjust(hspace=1.0)\n",
    "plt.show()\n",
    "\"\"\""
   ]
  }
 ],
 "metadata": {
  "kernelspec": {
   "display_name": "Python 3",
   "language": "python",
   "name": "python3"
  },
  "language_info": {
   "codemirror_mode": {
    "name": "ipython",
    "version": 3
   },
   "file_extension": ".py",
   "mimetype": "text/x-python",
   "name": "python",
   "nbconvert_exporter": "python",
   "pygments_lexer": "ipython3",
   "version": "3.6.6"
  }
 },
 "nbformat": 4,
 "nbformat_minor": 2
}
